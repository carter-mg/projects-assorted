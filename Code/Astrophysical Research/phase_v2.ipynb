{
 "cells": [
  {
   "cell_type": "code",
   "execution_count": 18,
   "id": "c4884fe1-06d9-4d72-86e5-416d043494d9",
   "metadata": {},
   "outputs": [
    {
     "name": "stdout",
     "output_type": "stream",
     "text": [
      "/data/cartermg\n"
     ]
    }
   ],
   "source": [
    "## for getting a known time of max light.\n",
    "## uses .xls or .csv file generated using pandas dataframe.\n",
    "\n",
    "import pandas as pd\n",
    "import os\n",
    "from pathlib import Path\n",
    "print(os.getcwd())"
   ]
  },
  {
   "cell_type": "code",
   "execution_count": 35,
   "id": "c0679faa-0e63-4ead-87e4-f20a2b3e8719",
   "metadata": {},
   "outputs": [
    {
     "name": "stdout",
     "output_type": "stream",
     "text": [
      "Time of max light during OPO observation: 2460761.946121\n"
     ]
    }
   ],
   "source": [
    "# gets file\n",
    "pathname = Path('msmts.csv')\n",
    "df = pd.read_csv(pathname, sep='\\t')\n",
    "\n",
    "# reads values, gets time of max light\n",
    "# PEAK MUST EXIST IN DURATION OF OBSERVATION\n",
    "idxmax = df['rel_flux_T1'].idxmax()  \n",
    "T0_BJDTBD = df.loc[idxmax, 'BJD_TDB']  # corresponding BJD_TDB\n",
    "\n",
    "P = 0.13053502226702715    # in d. period calculated in 329 for V927. Needs to be edited if a different target.\n",
    "\n",
    "print(f'Time of max light during OPO observation: {T0_BJDTBD}')"
   ]
  },
  {
   "cell_type": "code",
   "execution_count": 9,
   "id": "213baec4-d374-4b69-a5e5-423168ada2a3",
   "metadata": {},
   "outputs": [],
   "source": [
    "## for finding the target star coordinates, to be used in HJD and BJD conversion\n",
    "from astroquery.simbad import Simbad\n",
    "from astropy.coordinates import SkyCoord\n",
    "import astropy.units as u"
   ]
  },
  {
   "cell_type": "code",
   "execution_count": 68,
   "id": "37347e3a-6a52-4fd5-87ae-596e2c5bd925",
   "metadata": {},
   "outputs": [],
   "source": [
    "def simbad_coords(object_name):\n",
    "    # query Simbad\n",
    "    result = Simbad.query_object(object_name)\n",
    "    if result is None:\n",
    "        raise ValueError(f\"Object '{object_name}' not found in Simbad.\")\n",
    "    \n",
    "    ra = result['RA'][0]  # in 'hh mm ss' format\n",
    "    dec = result['DEC'][0]  # in 'dd mm ss' format\n",
    "    print(f'Star coordinates found: {ra}, {dec}')\n",
    "    # convert to SkyCoord\n",
    "    coord = SkyCoord(f\"{ra} {dec}\", unit=(u.hourangle, u.deg), frame='icrs')\n",
    "\n",
    "    return coord"
   ]
  },
  {
   "cell_type": "code",
   "execution_count": 69,
   "id": "7c69402c-5a39-4b09-86c3-5831364c9fdf",
   "metadata": {},
   "outputs": [
    {
     "name": "stdout",
     "output_type": "stream",
     "text": [
      "Star coordinates found: 16 56 17.9985, +50 07 35.856\n"
     ]
    }
   ],
   "source": [
    "target_coords = simbad_coords('V927 Her')"
   ]
  },
  {
   "cell_type": "code",
   "execution_count": 37,
   "id": "4d1ed590-fd99-40f5-bc1c-f61145020ec8",
   "metadata": {},
   "outputs": [
    {
     "name": "stdout",
     "output_type": "stream",
     "text": [
      "APO Earth Location Coordinates: (-1463998.7009965, -5166633.73441486, 3435013.97233452) m\n"
     ]
    }
   ],
   "source": [
    "## sets observatory location.\n",
    "\n",
    "obs_location = EarthLocation.from_geodetic(lon=-105.820417 * u.deg, lat=32.780361 * u.deg, height=2788 * u.m)\n",
    "print(f\"APO Earth Location Coordinates: {location}\")"
   ]
  },
  {
   "cell_type": "code",
   "execution_count": 53,
   "id": "25a0c6df-c521-4ba8-9122-9ccc7a3d639e",
   "metadata": {},
   "outputs": [],
   "source": [
    "## finds the phase.\n",
    "## includes target coordinates from simbad_coords function.\n",
    "## make sure to switch to HJD if that is the time used from the .csv file.\n",
    "\n",
    "from astropy.io import fits"
   ]
  },
  {
   "cell_type": "code",
   "execution_count": 65,
   "id": "e43c5191-8cf3-47b2-84e7-6e63940529c3",
   "metadata": {},
   "outputs": [],
   "source": [
    "def calculate_phase(fits_file, T0, period, location, target_coord, T0_system='BJD'):\n",
    "    \"\"\"\n",
    "    Parameters:\n",
    "    - fits_file: path to the FITS file\n",
    "    - T0: time of max light (in HJD or BJD depending on T0_system)\n",
    "    - period: period of the star (days)\n",
    "    - location: astropy EarthLocation object for the observatory\n",
    "    - target_coord: astropy SkyCoord object for the star\n",
    "    - T0_system: 'HJD' or 'BJD' depending on what T0 is\n",
    "    \"\"\"\n",
    "\n",
    "    # open FITS file and read MJD\n",
    "    hdul = fits.open(fits_file)\n",
    "    header = hdul[0].header\n",
    "    mjd_obs = header.get('AVE-MJD') or header.get('MJD')\n",
    "    hdul.close()\n",
    "\n",
    "    if mjd_obs is None:\n",
    "        raise ValueError(f\"No MJD keyword found in {fits_file}\")\n",
    "\n",
    "    # create a Time object from MJD\n",
    "    time_obs = Time(mjd_obs, format='mjd', location=location)\n",
    "\n",
    "    # calculate light travel time correction\n",
    "    ltt_bary = time_obs.light_travel_time(target_coord, kind='barycentric')\n",
    "    ltt_helio = time_obs.light_travel_time(target_coord, kind='heliocentric')\n",
    "\n",
    "    # corrected times\n",
    "    bjd_tdb = time_obs.tdb + ltt_bary\n",
    "    hjd_utc = time_obs.utc + ltt_helio\n",
    "\n",
    "    # choose which corrected time to use based on T0_system\n",
    "    if T0_system.upper() == 'BJD':\n",
    "        obs_corrected = bjd_tdb\n",
    "    elif T0_system.upper() == 'HJD':\n",
    "        obs_corrected = hjd_utc\n",
    "    else:\n",
    "        raise ValueError(\"T0_system must be either 'HJD' or 'BJD'.\")\n",
    "\n",
    "    # calculate phase\n",
    "    phase = ((obs_corrected.value - T0) / period) % 1\n",
    "\n",
    "    return phase, header.get('TIME'), header.get('DATE')"
   ]
  },
  {
   "cell_type": "code",
   "execution_count": 67,
   "id": "355ffca0-6188-462b-bd88-e5a563cc6501",
   "metadata": {},
   "outputs": [
    {
     "name": "stdout",
     "output_type": "stream",
     "text": [
      "Phase: 0.10924263298511505, at time 12:40:49.252 on 2025-01-25\n",
      "Phase: 0.12287905439734459, at time 12:43:23.042 on 2025-01-25\n",
      "Phase: 0.13604092225432396, at time 12:45:51.480 on 2025-01-25\n",
      "Phase: 0.14969028905034065, at time 12:48:25.416 on 2025-01-25\n"
     ]
    }
   ],
   "source": [
    "# pick a file name and run the final function.\n",
    "filenames = ['V927Her1.merged.fits', 'V927Her2.merged.fits', 'V927Her3.merged.fits', 'V927Her4.merged.fits']\n",
    "\n",
    "for filename in filenames:\n",
    "    phase = calculate_phase(filename, T0_BJDTBD, P, obs_location, target_coords)\n",
    "    print(f'Phase: {phase[0]}, at time {phase[1]} on {phase[2]}')"
   ]
  }
 ],
 "metadata": {
  "kernelspec": {
   "display_name": "Python 3 (ipykernel)",
   "language": "python",
   "name": "python3"
  },
  "language_info": {
   "codemirror_mode": {
    "name": "ipython",
    "version": 3
   },
   "file_extension": ".py",
   "mimetype": "text/x-python",
   "name": "python",
   "nbconvert_exporter": "python",
   "pygments_lexer": "ipython3",
   "version": "3.9.18"
  }
 },
 "nbformat": 4,
 "nbformat_minor": 5
}
